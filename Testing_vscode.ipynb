{
  "cells": [
    {
      "cell_type": "code",
      "execution_count": null,
      "metadata": {
        "id": "9wA2nYwf0GiM"
      },
      "outputs": [],
      "source": [
        "import pandas as pd\n",
        "import os\n",
        "import matplotlib.pyplot as plt\n",
        "import numpy as np\n",
        "import albumentations as alb\n",
        "import cv2\n",
        "import tensorboard\n",
        "#import tensorflow as tf\n",
        "import datetime\n",
        "import torch\n",
        "\n",
        "from utils import plot\n",
        "from model import UNet\n",
        "#from torchsummary import summary\n",
        "from torch import nn\n",
        "from torch.utils.tensorboard import SummaryWriter\n",
        "from PIL import Image"
      ]
    },
    {
      "cell_type": "code",
      "execution_count": null,
      "metadata": {
        "id": "pRH03Q1AyFAc"
      },
      "outputs": [],
      "source": [
        "# Define constants\n",
        "\n",
        "# directories\n",
        "data_dir = 'data' # change to directory containing the data\n",
        "train_dir = 'train'\n",
        "log_dir = 'runs'"
      ]
    },
    {
      "cell_type": "code",
      "execution_count": null,
      "metadata": {
        "id": "DsZRL97JyFAc"
      },
      "outputs": [],
      "source": [
        "# Load metadata and get random sample\n",
        "metadata = pd.read_csv(os.path.join(data_dir, 'metadata.csv'))\n",
        "\n",
        "print(metadata)\n",
        "\n",
        "sample = metadata[metadata['split'] == 'train'].sample(n=1)"
      ]
    },
    {
      "cell_type": "code",
      "execution_count": null,
      "metadata": {
        "id": "Xy6UiPb2yFAc"
      },
      "outputs": [],
      "source": [
        "# Plot random sample\n",
        "\n",
        "plot(sample, data_dir)"
      ]
    },
    {
      "cell_type": "code",
      "execution_count": null,
      "metadata": {
        "id": "KsMmn_BHExMG"
      },
      "outputs": [],
      "source": [
        "# Test albumentations\n",
        "\n",
        "sample_path = os.path.join(data_dir, sample['sat_image_path'].iloc[0])\n",
        "sample_mask_path = os.path.join(data_dir, sample['mask_path'].iloc[0])\n",
        "\n",
        "# Define augmentation pipeline\n",
        "transform = alb.Compose([\n",
        "    alb.RandomCrop(width=256, height=256),\n",
        "    alb.HorizontalFlip(p=0.5),\n",
        "    alb.RandomBrightnessContrast(p=0.2),],\n",
        "    # we want the mask and the image to have the same augmentation (or at least the same crop)\n",
        "    # this way we pass the image and the mask simultaneously to the pipeline\n",
        "    additional_targets={'image': 'image', 'mask': 'mask'}\n",
        "    )\n",
        "\n",
        "# Read an image with OpenCV and convert it to the RGB colorspace\n",
        "image = cv2.imread(sample_path)\n",
        "image = cv2.cvtColor(image, cv2.COLOR_BGR2RGB)\n",
        "\n",
        "image_mask = cv2.imread(sample_mask_path)\n",
        "image_mask = cv2.cvtColor(image_mask, cv2.COLOR_BGR2RGB)\n",
        "\n",
        "# Augment an image\n",
        "transformed = transform(image = image, mask = image_mask)\n",
        "transformed_image = transformed['image']\n",
        "transformed_image_mask = transformed['mask']"
      ]
    },
    {
      "cell_type": "code",
      "execution_count": null,
      "metadata": {
        "id": "w5OKBXykGuma"
      },
      "outputs": [],
      "source": [
        "plt.subplot(121),plt.imshow(transformed_image),plt.title('Image');\n",
        "plt.subplot(122),plt.imshow(transformed_image_mask),plt.title('Mask');"
      ]
    },
    {
      "cell_type": "code",
      "execution_count": null,
      "metadata": {
        "id": "OKK0_N6pmXba"
      },
      "outputs": [],
      "source": [
        "# Set up summary writer for tensorboard\n",
        "current_time = datetime.datetime.now().strftime(\"%Y%m%d-%H%M%S\")\n",
        "writer = SummaryWriter(os.path.join(log_dir, current_time))\n",
        "\n",
        "#writer.add_scalar('plot', sclar_x, sclar_y)"
      ]
    },
    {
      "cell_type": "code",
      "execution_count": null,
      "metadata": {
        "id": "CGs0fakYloJp"
      },
      "outputs": [],
      "source": [
        "# Training\n",
        "\n",
        "# configure hyperparameters\n",
        "epochs = 50\n",
        "\n",
        "# init data loader/generator\n",
        "dataloader = None\n",
        "\n",
        "# init model, optimizer\n",
        "model = UNet(3, 16, 256, 5)\n",
        "#print(model)\n",
        "opt = None\n",
        "loss_func = None\n",
        "\n",
        "sample = torch.tensor(transformed_image, dtype=torch.float).T # shape = (3, 256, 256)\n",
        "\n",
        "model.eval()\n",
        "\n",
        "pred = model(sample)\n",
        "\n",
        "pred = torch.argmax(pred.T, 2).detach().numpy()\n",
        "\n",
        "print(pred.shape)\n",
        "\n",
        "plt.subplot(121),plt.imshow(pred),plt.title('Image');\n",
        "plt.subplot(122),plt.imshow(transformed_image_mask),plt.title('Mask');\n",
        "\n",
        "# for epoch in range(epochs):\n",
        "\n",
        "\n",
        "#     for x, y in dataloader:\n",
        "#         pred = model(x)\n",
        "#         loss = loss_func(pred, y)\n",
        "\n",
        "#         loss.backward()\n",
        "#         opt.step()\n",
        "#         opt.zero_grad()\n"
      ]
    }
  ],
  "metadata": {
    "accelerator": "GPU",
    "colab": {
      "gpuType": "T4",
      "include_colab_link": true,
      "provenance": []
    },
    "kernelspec": {
      "display_name": "Python 3",
      "name": "python3"
    },
    "language_info": {
      "codemirror_mode": {
        "name": "ipython",
        "version": 3
      },
      "file_extension": ".py",
      "mimetype": "text/x-python",
      "name": "python",
      "nbconvert_exporter": "python",
      "pygments_lexer": "ipython3",
      "version": "3.11.5"
    }
  },
  "nbformat": 4,
  "nbformat_minor": 0
}
