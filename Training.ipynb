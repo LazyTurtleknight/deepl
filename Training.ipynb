{
  "cells": [
    {
      "cell_type": "code",
      "execution_count": null,
      "metadata": {
        "id": "9wA2nYwf0GiM"
      },
      "outputs": [],
      "source": [
        "import pandas as pd\n",
        "import os\n",
        "import albumentations as alb\n",
        "import tensorboard\n",
        "#import tensorflow as tf\n",
        "import datetime\n",
        "import torch\n",
        "import numpy as np\n",
        "\n",
        "from model import UNet\n",
        "from utils import plot, get_data_loaders, evaluate, get_dice_score\n",
        "#from torchsummary import summary\n",
        "from torch.utils.tensorboard import SummaryWriter\n",
        "from albumentations.pytorch.transforms import ToTensorV2"
      ]
    },
    {
      "cell_type": "code",
      "execution_count": null,
      "metadata": {
        "id": "pRH03Q1AyFAc"
      },
      "outputs": [],
      "source": [
        "# Define constants\n",
        "\n",
        "# directories\n",
        "data_dir = 'data' # change to directory containing the data\n",
        "trained_models = 'trained_models'\n",
        "train_dir = 'train'\n",
        "log_dir = 'runs'"
      ]
    },
    {
      "cell_type": "code",
      "execution_count": null,
      "metadata": {},
      "outputs": [],
      "source": [
        "# Training configuration (hyperparameters)\n",
        "\n",
        "## Data\n",
        "test_split = .2 #20% for test split\n",
        "#valdation_split = .2 #20% for validation split\n",
        "random_seed = np.random.seed()\n",
        "shuffle_dataset = True\n",
        "\n",
        "transform = alb.Compose([\n",
        "    alb.RandomCrop(width=256, height=256),\n",
        "    alb.HorizontalFlip(p=0.5),\n",
        "    ToTensorV2()\n",
        "    ],\n",
        "    # we want the mask and the image to have the same augmentation (especially when we crop)\n",
        "    # this way we pass the image and the mask simultaneously to the pipeline\n",
        "    additional_targets={'image': 'image', 'mask': 'mask'}\n",
        "    )\n",
        "\n",
        "## model architecture\n",
        "in_channels = 3\n",
        "min_channels = 16\n",
        "max_channels = 256\n",
        "num_classes = 5\n",
        "\n",
        "## Training\n",
        "learning_rate = 0.1\n",
        "batch_size = 16\n",
        "epochs = 50"
      ]
    },
    {
      "cell_type": "code",
      "execution_count": null,
      "metadata": {
        "id": "CGs0fakYloJp"
      },
      "outputs": [],
      "source": [
        "# Training\n",
        "\n",
        "# setup training enviroment\n",
        "\n",
        "#Labels\n",
        "\n",
        "\n",
        "# init data loader/generator\n",
        "train_dataloader, test_dataloader = get_data_loaders(data_dir, transform, shuffle_dataset, test_split, random_seed, batch_size)\n",
        "\n",
        "# init model, optimizer and loss function\n",
        "model = UNet(in_channels, min_channels, max_channels, num_classes)\n",
        "opt = torch.optim.SGD(model.parameters(), learning_rate)\n",
        "loss_func = get_dice_score\n",
        "\n",
        "# Set up summary writer for tensorboard\n",
        "current_time = datetime.datetime.now().strftime(\"%Y%m%d-%H%M%S\")\n",
        "writer = SummaryWriter(os.path.join(log_dir, current_time))\n",
        "\n",
        "\n",
        "# start training\n",
        "for epoch in range(epochs):\n",
        "    for x, y in train_dataloader:\n",
        "        pred = model(x)\n",
        "        # TODO: check the output of the model. is it one hot encoded, rgb or else ?\n",
        "        pred = torch.argmax(pred.T, 2).detach().numpy()\n",
        "        loss = loss_func(pred, y)\n",
        "        writer.add_scalar('Loss', loss, epoch)\n",
        "        loss.backward()\n",
        "        opt.step()\n",
        "        opt.zero_grad() \n",
        "    \n",
        "    # Evaluate model\n",
        "    model.eval()\n",
        "    evaluate(model, writer, test_dataloader, epoch)\n",
        "    model.train()\n",
        "\n",
        "# Save model after training\n",
        "torch.save(model.state_dict(), os.path.join(trained_models, current_time))"
      ]
    },
    {
      "cell_type": "code",
      "execution_count": null,
      "metadata": {},
      "outputs": [],
      "source": [
        "# Model evaluation\n",
        "\n",
        "model = UNet(0, 0, 0, 0)\n",
        "model.load_state_dict(torch.load(PATH))\n",
        "model.eval()"
      ]
    }
  ],
  "metadata": {
    "accelerator": "GPU",
    "colab": {
      "gpuType": "T4",
      "include_colab_link": true,
      "provenance": []
    },
    "kernelspec": {
      "display_name": "Python 3 (ipykernel)",
      "language": "python",
      "name": "python3"
    },
    "language_info": {
      "codemirror_mode": {
        "name": "ipython",
        "version": 3
      },
      "file_extension": ".py",
      "mimetype": "text/x-python",
      "name": "python",
      "nbconvert_exporter": "python",
      "pygments_lexer": "ipython3",
      "version": "3.11.5"
    }
  },
  "nbformat": 4,
  "nbformat_minor": 0
}
