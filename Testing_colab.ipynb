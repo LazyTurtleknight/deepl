{
  "cells": [
    {
      "cell_type": "markdown",
      "metadata": {
        "id": "view-in-github",
        "colab_type": "text"
      },
      "source": [
        "<a href=\"https://colab.research.google.com/github/LazyTurtleknight/deepl/blob/main/Testing_colab.ipynb\" target=\"_parent\"><img src=\"https://colab.research.google.com/assets/colab-badge.svg\" alt=\"Open In Colab\"/></a>"
      ]
    },
    {
      "cell_type": "code",
      "source": [
        "# Skip this cell if you are not working with colab\n",
        "\n",
        "!pip install opendatasets\n",
        "!pip install pandas\n",
        "!pip install albumentations\n",
        "\n",
        "# Download dataset from kaggle\n",
        "od.download(\n",
        "    \"https://www.kaggle.com/datasets/balraj98/deepglobe-land-cover-classification-dataset\")\n"
      ],
      "metadata": {
        "id": "kXB77TGXznr1"
      },
      "execution_count": null,
      "outputs": []
    },
    {
      "cell_type": "code",
      "execution_count": 48,
      "metadata": {
        "id": "pRH03Q1AyFAc"
      },
      "outputs": [],
      "source": [
        "# Define constants\n",
        "\n",
        "# directories\n",
        "data_dir = 'deepglobe-land-cover-classification-dataset' # change to directory containing the data\n",
        "train_dir = 'train'"
      ]
    },
    {
      "cell_type": "code",
      "source": [
        "import opendatasets as od\n",
        "import pandas as pd\n",
        "import os\n",
        "import matplotlib.pyplot as plt\n",
        "import numpy as np\n",
        "import albumentations as alb\n",
        "import cv2\n",
        "\n",
        "from PIL import Image"
      ],
      "metadata": {
        "id": "9wA2nYwf0GiM"
      },
      "execution_count": 49,
      "outputs": []
    },
    {
      "cell_type": "code",
      "execution_count": 50,
      "metadata": {
        "id": "DsZRL97JyFAc"
      },
      "outputs": [],
      "source": [
        "# Load metadata and get random sample\n",
        "metadata = pd.read_csv(os.path.join(data_dir, 'metadata.csv'))\n",
        "\n",
        "sample = metadata[metadata['split'] == 'train'].sample(n=1)"
      ]
    },
    {
      "cell_type": "code",
      "execution_count": null,
      "metadata": {
        "id": "Xy6UiPb2yFAc"
      },
      "outputs": [],
      "source": [
        "# Plot random sample\n",
        "\n",
        "def plot(sample):\n",
        "\n",
        "  plt.figure(figsize=(5,4))\n",
        "  ax = plt.subplot(2,2,1)\n",
        "  plt.imshow(np.asarray(Image.open(os.path.join(data_dir, sample['sat_image_path'].iloc[0]))))\n",
        "  plt.gray()\n",
        "  ax.get_yaxis().set_visible(False)\n",
        "  ax.get_xaxis().set_visible(False)\n",
        "\n",
        "  ax = plt.subplot(2,2,2)\n",
        "  plt.imshow(np.asarray(Image.open(os.path.join(data_dir, sample['mask_path'].iloc[0]))))\n",
        "  plt.gray()\n",
        "  ax.get_yaxis().set_visible(False)\n",
        "  ax.get_xaxis().set_visible(False)\n",
        "\n",
        "  plt.show()\n",
        "\n",
        "plot(sample)"
      ]
    },
    {
      "cell_type": "code",
      "source": [
        "# Test albumentations\n",
        "\n",
        "sample_path = os.path.join(data_dir, sample['sat_image_path'].iloc[0])\n",
        "sample_mask_path = os.path.join(data_dir, sample['mask_path'].iloc[0])\n",
        "\n",
        "# Define augmentation pipeline\n",
        "transform = alb.Compose([\n",
        "    alb.RandomCrop(width=256, height=256),\n",
        "    alb.HorizontalFlip(p=0.5),\n",
        "    alb.RandomBrightnessContrast(p=0.2),],\n",
        "    # we want the mask and the image to have the same augmentation (or at least the same crop)\n",
        "    # this way we pass the image and the mask simultaneously to the pipeline\n",
        "    additional_targets={'image': 'image', 'mask': 'mask'}\n",
        "    )\n",
        "\n",
        "# Read an image with OpenCV and convert it to the RGB colorspace\n",
        "image = cv2.imread(sample_path)\n",
        "image = cv2.cvtColor(image, cv2.COLOR_BGR2RGB)\n",
        "\n",
        "image_mask = cv2.imread(sample_mask_path)\n",
        "image_mask = cv2.cvtColor(image_mask, cv2.COLOR_BGR2RGB)\n",
        "\n",
        "# Augment an image\n",
        "transformed = transform(image = image, mask = image_mask)\n",
        "transformed_image = transformed['image']\n",
        "transformed_image_mask = transformed['mask']"
      ],
      "metadata": {
        "id": "KsMmn_BHExMG"
      },
      "execution_count": 59,
      "outputs": []
    },
    {
      "cell_type": "code",
      "source": [
        "plt.subplot(121),plt.imshow(transformed_image),plt.title('Image');\n",
        "plt.subplot(122),plt.imshow(transformed_image_mask),plt.title('Mask');"
      ],
      "metadata": {
        "id": "w5OKBXykGuma"
      },
      "execution_count": null,
      "outputs": []
    }
  ],
  "metadata": {
    "kernelspec": {
      "display_name": "deepl",
      "language": "python",
      "name": "python3"
    },
    "language_info": {
      "codemirror_mode": {
        "name": "ipython",
        "version": 3
      },
      "file_extension": ".py",
      "mimetype": "text/x-python",
      "name": "python",
      "nbconvert_exporter": "python",
      "pygments_lexer": "ipython3",
      "version": "3.11.5"
    },
    "colab": {
      "provenance": [],
      "include_colab_link": true
    }
  },
  "nbformat": 4,
  "nbformat_minor": 0
}